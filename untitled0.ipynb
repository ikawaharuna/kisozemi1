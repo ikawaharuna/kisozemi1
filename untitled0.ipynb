{
  "nbformat": 4,
  "nbformat_minor": 0,
  "metadata": {
    "colab": {
      "provenance": [],
      "authorship_tag": "ABX9TyPEo31VB4hztiHgkhkBzL++",
      "include_colab_link": true
    },
    "kernelspec": {
      "name": "python3",
      "display_name": "Python 3"
    },
    "language_info": {
      "name": "python"
    }
  },
  "cells": [
    {
      "cell_type": "markdown",
      "metadata": {
        "id": "view-in-github",
        "colab_type": "text"
      },
      "source": [
        "<a href=\"https://colab.research.google.com/github/ikawaharuna/kisozemi1/blob/main/untitled0.ipynb\" target=\"_parent\"><img src=\"https://colab.research.google.com/assets/colab-badge.svg\" alt=\"Open In Colab\"/></a>"
      ]
    },
    {
      "cell_type": "code",
      "source": [],
      "metadata": {
        "id": "_5PyuIFBw_cb"
      },
      "execution_count": null,
      "outputs": []
    },
    {
      "cell_type": "code",
      "execution_count": null,
      "metadata": {
        "id": "ZQSmFvW1vZ-y"
      },
      "outputs": [],
      "source": [
        "x=100"
      ]
    },
    {
      "cell_type": "code",
      "source": [
        "if(x>20):\n",
        "  print(\"big\")\n",
        "else:\n",
        "  print(\"small\")"
      ],
      "metadata": {
        "colab": {
          "base_uri": "https://localhost:8080/"
        },
        "id": "JISayKcjw7dM",
        "outputId": "4a15b4cd-6dec-4fd8-ca0a-89bec5e5ef36"
      },
      "execution_count": null,
      "outputs": [
        {
          "output_type": "stream",
          "name": "stdout",
          "text": [
            "big\n"
          ]
        }
      ]
    },
    {
      "cell_type": "code",
      "source": [
        "s=0"
      ],
      "metadata": {
        "id": "4xgn7KLGzbEU"
      },
      "execution_count": null,
      "outputs": []
    },
    {
      "cell_type": "code",
      "source": [
        "for i in[1,2,3,4,5]:\n",
        "  s=s+i\n",
        "print(s)"
      ],
      "metadata": {
        "id": "UOLHqW3azocO"
      },
      "execution_count": null,
      "outputs": []
    }
  ]
}